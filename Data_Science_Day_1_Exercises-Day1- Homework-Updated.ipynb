{
 "cells": [
  {
   "cell_type": "markdown",
   "metadata": {},
   "source": [
    "# Exercises"
   ]
  },
  {
   "cell_type": "markdown",
   "metadata": {},
   "source": [
    "### #1 - Calculate the BMI (body mass index) on the two lists below using NDArrays..."
   ]
  },
  {
   "cell_type": "code",
   "execution_count": 2,
   "metadata": {},
   "outputs": [
    {
     "data": {
      "text/plain": [
       "array([16.86620458, 17.87755102, 18.82562984, 19.71450617, 20.54794521,\n",
       "       21.32943755, 22.06222222])"
      ]
     },
     "execution_count": 2,
     "metadata": {},
     "output_type": "execute_result"
    }
   ],
   "source": [
    "import numpy as np\n",
    "# formula = weight / (height**2) * 730\n",
    "height = [69, 70, 71, 72, 73, 74, 75]\n",
    "weight = [110, 120, 130, 140, 150, 160, 170]\n",
    "\n",
    "height_np = np.array(height)\n",
    "weight_np = np.array(weight)\n",
    "bmi_calc = weight_np / (height_np **2) * 730\n",
    "\n",
    "bmi_calc\n",
    "\n",
    "\n",
    "\n"
   ]
  },
  {
   "cell_type": "markdown",
   "metadata": {},
   "source": [
    "### #2 - Create a function that will take in two parameters and will create a random matrix based off of those parameters. Extra: Have additional parameters taken in that allow the user to choose the shape and data type of the matrix."
   ]
  },
  {
   "cell_type": "code",
   "execution_count": 12,
   "metadata": {},
   "outputs": [
    {
     "name": "stdout",
     "output_type": "stream",
     "text": [
      "[[ 9.4051898  74.23475998  5.95418351 11.74312027 40.02800348]\n",
      " [30.73037238 21.16950122 63.57218503 31.63788077 61.44904394]\n",
      " [19.90494088 74.74336882 59.64001331 64.81348391 41.49257507]]\n"
     ]
    }
   ],
   "source": [
    "# Example makeMatrix(param1,param2) -- Extra params can be added here as well\n",
    "\n",
    "# def makeMatrix(low,high,shape,data_type = float):\n",
    "#     pass\n",
    "\n",
    "# def makeRandom(low, high):\n",
    "#     randomNum = np.random.uniform(low, high)\n",
    "#     print(f'A matrix generated for a random number between {low} and {high} is: {randomNum}')\n",
    "\n",
    "# makeRandom(1,75)\n",
    "\n",
    "\n",
    "\n",
    "\n",
    "def makeRandom2(low, high, size, data_type):\n",
    "    if data_type == int:\n",
    "        random_arr = np.random.randint(low, high, size)\n",
    "    else:\n",
    "        random_arr = np.random.uniform(low, high, size)\n",
    "    return random_arr        \n",
    "    \n",
    "\n",
    "print(makeRandom2(1,75,(3,5), float))\n"
   ]
  },
  {
   "cell_type": "markdown",
   "metadata": {},
   "source": [
    "### #3 - Extra: Open and load the data in the two text files that have the Boston Red Sox hitting data for the past seasons. Compare the difference in the two years by putting the data into an NDArray and running a differencial operation on it. The column to look for will be SLG.\n",
    "\n",
    "Your output should display which year (either 2017 or 2018) was a better year based on SLG"
   ]
  },
  {
   "cell_type": "code",
   "execution_count": 28,
   "metadata": {},
   "outputs": [
    {
     "name": "stdout",
     "output_type": "stream",
     "text": [
      "The avg SLG for the Boston Red Sox was better in 2017 at 0.39334782374941785\n"
     ]
    }
   ],
   "source": [
    "import csv\n",
    "import numpy as np\n",
    "from datetime import datetime\n",
    "FIELDS = ['Rk', 'Pos', 'Name', 'Age', 'G', 'PA', 'AB', 'R', 'H', '2B', '3B', 'HR', 'RBI', 'SB', 'CS', \n",
    "          'BB', 'SO', 'BA', 'OBP', 'SLG', 'OPS', 'OPS+', 'TB', 'GDP', 'HBP', 'SH', 'SF', 'IBB']\n",
    "\n",
    "DATATYPES = [('rk', 'i'), ('pos', '|S25'), ('name', '|S25'), ('age', 'i'), ('g', 'i'), ('pa', 'i'), ('ab', 'i'),\n",
    "                ('r', 'i'), ('h', 'i'), ('2b', 'i'), ('3b', 'i'), ('hr', 'i'), ('rbi', 'i'), ('sb', 'i'), ('cs', 'i'),\n",
    "                ('bb', 'i'), ('so', 'i'), ('ba', 'f'), ('obp', 'f'), ('slg', 'f'), ('ops', 'f'), ('opsp', 'i'),\n",
    "                ('tb', 'i'), ('gdp', 'i'), ('hbp', 'i'), ('sh', 'i'), ('sf', 'i'), ('ibb', 'i')]\n",
    "\n",
    "# to confirm data can be read\n",
    "def open_csv(filename, d= ','):\n",
    "    data = []\n",
    "    with open(filename, encoding = 'utf-8') as mData:       \n",
    "        info = csv.reader(mData, delimiter = d)       \n",
    "        for row in info:\n",
    "            data.append(row)\n",
    "    return data\n",
    "\n",
    "csv_data = open_csv('D:/Coding_Temple/week8/files/redsox_2017_hitting.csv')\n",
    "#print(csv_data[1])\n",
    "\n",
    "#Use this function to actually open the data inside of a NDArray\n",
    "\n",
    "def load_data(filename, d=','):\n",
    "    data = np.genfromtxt(filename, delimiter = d,skip_header = 1,\n",
    "                        usecols= np.arange(0,24), invalid_raise = False,\n",
    "                        names= FIELDS, dtype = DATATYPES)\n",
    "    return data\n",
    "\n",
    "#calculate higher avg SLG percentage\n",
    "def betterYear():\n",
    "    bs2017 = load_data('D:/Coding_Temple/week8/files/redsox_2017_hitting.csv')\n",
    "    slg_2017 = bs2017['SLG']\n",
    "    avg_slg_2017 = sum(bs2017['SLG']) / len(slg_2017)\n",
    "    \n",
    "    bs2018 = load_data('D:/Coding_Temple/week8/files/redsox_2018_hitting.csv')\n",
    "    slg_2018 = bs2018['SLG']\n",
    "    avg_slg_2018 = sum(bs2018['SLG']) / len(slg_2018)\n",
    "    \n",
    "    if avg_slg_2018 > avg_slg_2017:\n",
    "        print(f'The avg SLG for the Boston Red Sox was better in 2018 at {avg_slg_2018}')\n",
    "    else:\n",
    "        print(f'The avg SLG for the Boston Red Sox was better in 2017 at {avg_slg_2017}')\n",
    "    \n",
    "\n",
    "betterYear()\n"
   ]
  }
 ],
 "metadata": {
  "kernelspec": {
   "display_name": "Python 3",
   "language": "python",
   "name": "python3"
  },
  "language_info": {
   "codemirror_mode": {
    "name": "ipython",
    "version": 3
   },
   "file_extension": ".py",
   "mimetype": "text/x-python",
   "name": "python",
   "nbconvert_exporter": "python",
   "pygments_lexer": "ipython3",
   "version": "3.7.6"
  }
 },
 "nbformat": 4,
 "nbformat_minor": 2
}
